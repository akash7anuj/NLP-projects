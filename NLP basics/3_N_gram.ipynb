{
 "cells": [
  {
   "cell_type": "markdown",
   "id": "d56b95d0-be9f-4b37-b7bb-bf0938798bcc",
   "metadata": {},
   "source": [
    "# N-grams\n",
    "\n",
    "1. N-grams are continuous sequences of words or symbols or tokens in a document. \n",
    "2. In technical terms. They can be defined as the neighboring sequences of items in a document.\n"
   ]
  },
  {
   "cell_type": "code",
   "execution_count": 33,
   "id": "7ef0f4dc-2235-4331-a37b-225a218af584",
   "metadata": {},
   "outputs": [],
   "source": [
    "x = \"I am Anuj Singh, I am gnsu student, I am nice boy, I am Anuj\""
   ]
  },
  {
   "cell_type": "code",
   "execution_count": 35,
   "id": "74aa62e5-020a-4760-ad20-89f9891d3c4e",
   "metadata": {},
   "outputs": [],
   "source": [
    "from nltk import word_tokenize"
   ]
  },
  {
   "cell_type": "code",
   "execution_count": 37,
   "id": "e3693717-9880-4f48-81ad-616c710fdf80",
   "metadata": {},
   "outputs": [
    {
     "data": {
      "text/plain": [
       "['I',\n",
       " 'am',\n",
       " 'Anuj',\n",
       " 'Singh',\n",
       " ',',\n",
       " 'I',\n",
       " 'am',\n",
       " 'gnsu',\n",
       " 'student',\n",
       " ',',\n",
       " 'I',\n",
       " 'am',\n",
       " 'nice',\n",
       " 'boy',\n",
       " ',',\n",
       " 'I',\n",
       " 'am',\n",
       " 'Anuj']"
      ]
     },
     "execution_count": 37,
     "metadata": {},
     "output_type": "execute_result"
    }
   ],
   "source": [
    "word = word_tokenize(x)\n",
    "word"
   ]
  },
  {
   "cell_type": "code",
   "execution_count": 39,
   "id": "652dcf3b-73ec-4cec-9954-c3d71b305762",
   "metadata": {},
   "outputs": [],
   "source": [
    "from nltk.collocations import BigramCollocationFinder, TrigramCollocationFinder, ngrams"
   ]
  },
  {
   "cell_type": "code",
   "execution_count": 41,
   "id": "cf72d44f-afa4-47f8-a4a7-c603a4961796",
   "metadata": {},
   "outputs": [
    {
     "data": {
      "text/plain": [
       "FreqDist({('I', 'am'): 4, (',', 'I'): 3, ('am', 'Anuj'): 2, ('Anuj', 'Singh'): 1, ('Singh', ','): 1, ('am', 'gnsu'): 1, ('gnsu', 'student'): 1, ('student', ','): 1, ('am', 'nice'): 1, ('nice', 'boy'): 1, ...})"
      ]
     },
     "execution_count": 41,
     "metadata": {},
     "output_type": "execute_result"
    }
   ],
   "source": [
    "# double pair\n",
    "\n",
    "b = BigramCollocationFinder.from_words(word)\n",
    "b.ngram_fd"
   ]
  },
  {
   "cell_type": "code",
   "execution_count": 47,
   "id": "074066a6-8543-44e9-ab06-172f56a81c2f",
   "metadata": {},
   "outputs": [
    {
     "data": {
      "text/plain": [
       "dict_keys([('I', 'am'), ('am', 'Anuj'), ('Anuj', 'Singh'), ('Singh', ','), (',', 'I'), ('am', 'gnsu'), ('gnsu', 'student'), ('student', ','), ('am', 'nice'), ('nice', 'boy'), ('boy', ',')])"
      ]
     },
     "execution_count": 47,
     "metadata": {},
     "output_type": "execute_result"
    }
   ],
   "source": [
    "b.ngram_fd.keys()"
   ]
  },
  {
   "cell_type": "code",
   "execution_count": 43,
   "id": "6267c0ac-c405-4e9e-ba53-8caa9dd316d6",
   "metadata": {},
   "outputs": [
    {
     "data": {
      "text/plain": [
       "FreqDist({'I': 4, 'am': 4, ',': 3, 'Anuj': 2, 'Singh': 1, 'gnsu': 1, 'student': 1, 'nice': 1, 'boy': 1})"
      ]
     },
     "execution_count": 43,
     "metadata": {},
     "output_type": "execute_result"
    }
   ],
   "source": [
    " # count the no. of word\n",
    "\n",
    "from nltk.probability import FreqDist\n",
    "\n",
    "fre = FreqDist(word)\n",
    "fre"
   ]
  },
  {
   "cell_type": "code",
   "execution_count": 51,
   "id": "8b1303e1-b087-4fd0-9120-54fa2c187b09",
   "metadata": {},
   "outputs": [
    {
     "data": {
      "text/plain": [
       "FreqDist({(',', 'I', 'am'): 3, ('I', 'am', 'Anuj'): 2, ('am', 'Anuj', 'Singh'): 1, ('Anuj', 'Singh', ','): 1, ('Singh', ',', 'I'): 1, ('I', 'am', 'gnsu'): 1, ('am', 'gnsu', 'student'): 1, ('gnsu', 'student', ','): 1, ('student', ',', 'I'): 1, ('I', 'am', 'nice'): 1, ...})"
      ]
     },
     "execution_count": 51,
     "metadata": {},
     "output_type": "execute_result"
    }
   ],
   "source": [
    "#  triple pair\n",
    "\n",
    "t = TrigramCollocationFinder.from_words(word)\n",
    "t.ngram_fd"
   ]
  },
  {
   "cell_type": "code",
   "execution_count": 57,
   "id": "bccf2456-177a-48a1-afc0-5612e0ea1611",
   "metadata": {},
   "outputs": [
    {
     "name": "stdout",
     "output_type": "stream",
     "text": [
      "('I',)\n",
      "('am',)\n",
      "('Anuj',)\n",
      "('Singh',)\n",
      "(',',)\n",
      "('I',)\n",
      "('am',)\n",
      "('gnsu',)\n",
      "('student',)\n",
      "(',',)\n",
      "('I',)\n",
      "('am',)\n",
      "('nice',)\n",
      "('boy',)\n",
      "(',',)\n",
      "('I',)\n",
      "('am',)\n",
      "('Anuj',)\n"
     ]
    }
   ],
   "source": [
    "n = ngrams(word, 1)\n",
    "for i in n :\n",
    "    print(i)"
   ]
  },
  {
   "cell_type": "code",
   "execution_count": 59,
   "id": "7abf4eef-6690-47bd-9feb-953277d0e154",
   "metadata": {},
   "outputs": [
    {
     "name": "stdout",
     "output_type": "stream",
     "text": [
      "('I', 'am', 'Anuj', 'Singh')\n",
      "('am', 'Anuj', 'Singh', ',')\n",
      "('Anuj', 'Singh', ',', 'I')\n",
      "('Singh', ',', 'I', 'am')\n",
      "(',', 'I', 'am', 'gnsu')\n",
      "('I', 'am', 'gnsu', 'student')\n",
      "('am', 'gnsu', 'student', ',')\n",
      "('gnsu', 'student', ',', 'I')\n",
      "('student', ',', 'I', 'am')\n",
      "(',', 'I', 'am', 'nice')\n",
      "('I', 'am', 'nice', 'boy')\n",
      "('am', 'nice', 'boy', ',')\n",
      "('nice', 'boy', ',', 'I')\n",
      "('boy', ',', 'I', 'am')\n",
      "(',', 'I', 'am', 'Anuj')\n"
     ]
    }
   ],
   "source": [
    "#  customize pair \n",
    "\n",
    "n = ngrams(word, 4)\n",
    "for i in n :\n",
    "    print(i)"
   ]
  },
  {
   "cell_type": "code",
   "execution_count": null,
   "id": "8bec0231-2cfb-44f5-9b39-4ac240399745",
   "metadata": {},
   "outputs": [],
   "source": []
  }
 ],
 "metadata": {
  "kernelspec": {
   "display_name": "Python 3 (ipykernel)",
   "language": "python",
   "name": "python3"
  },
  "language_info": {
   "codemirror_mode": {
    "name": "ipython",
    "version": 3
   },
   "file_extension": ".py",
   "mimetype": "text/x-python",
   "name": "python",
   "nbconvert_exporter": "python",
   "pygments_lexer": "ipython3",
   "version": "3.12.4"
  }
 },
 "nbformat": 4,
 "nbformat_minor": 5
}
