{
 "cells": [
  {
   "cell_type": "markdown",
   "id": "ba55cbc5-9862-445b-845c-375f05b1d6d4",
   "metadata": {},
   "source": [
    "# Count Vectorizer\n",
    "\n",
    "Count Vectorizer Means Breaking Down A Sentence Or Any Text Into Words By Performing Preprocessing Tasks Like Converting All Words To Lowercase, Thus Removing Special Characters.\n"
   ]
  },
  {
   "cell_type": "code",
   "execution_count": 116,
   "id": "8e0a4a1c-d438-496f-8f69-6f3b3a4d2c73",
   "metadata": {},
   "outputs": [],
   "source": [
    "l = [\"I am Anuj Singh.\", \"I am gnsu student.\", \"I am nice boy, I am Anuj\"]"
   ]
  },
  {
   "cell_type": "code",
   "execution_count": 118,
   "id": "fde4bac0-da42-42ef-abe8-c15112d155b6",
   "metadata": {},
   "outputs": [],
   "source": [
    "import pandas as pd"
   ]
  },
  {
   "cell_type": "code",
   "execution_count": 120,
   "id": "92b16926-d9a2-4a09-99ca-3903fd0c132b",
   "metadata": {},
   "outputs": [],
   "source": [
    "df = pd.DataFrame({\"Anuj\": l})\n"
   ]
  },
  {
   "cell_type": "code",
   "execution_count": 122,
   "id": "ba9d1033-0b1a-4614-b357-00ac94423969",
   "metadata": {},
   "outputs": [
    {
     "data": {
      "text/html": [
       "<div>\n",
       "<style scoped>\n",
       "    .dataframe tbody tr th:only-of-type {\n",
       "        vertical-align: middle;\n",
       "    }\n",
       "\n",
       "    .dataframe tbody tr th {\n",
       "        vertical-align: top;\n",
       "    }\n",
       "\n",
       "    .dataframe thead th {\n",
       "        text-align: right;\n",
       "    }\n",
       "</style>\n",
       "<table border=\"1\" class=\"dataframe\">\n",
       "  <thead>\n",
       "    <tr style=\"text-align: right;\">\n",
       "      <th></th>\n",
       "      <th>Anuj</th>\n",
       "    </tr>\n",
       "  </thead>\n",
       "  <tbody>\n",
       "    <tr>\n",
       "      <th>0</th>\n",
       "      <td>I am Anuj Singh.</td>\n",
       "    </tr>\n",
       "    <tr>\n",
       "      <th>1</th>\n",
       "      <td>I am gnsu student.</td>\n",
       "    </tr>\n",
       "    <tr>\n",
       "      <th>2</th>\n",
       "      <td>I am nice boy, I am Anuj</td>\n",
       "    </tr>\n",
       "  </tbody>\n",
       "</table>\n",
       "</div>"
      ],
      "text/plain": [
       "                       Anuj\n",
       "0          I am Anuj Singh.\n",
       "1        I am gnsu student.\n",
       "2  I am nice boy, I am Anuj"
      ]
     },
     "execution_count": 122,
     "metadata": {},
     "output_type": "execute_result"
    }
   ],
   "source": [
    "df"
   ]
  },
  {
   "cell_type": "code",
   "execution_count": 124,
   "id": "9a312f18-02ef-4dc5-9700-39f50736dca8",
   "metadata": {},
   "outputs": [],
   "source": [
    "from sklearn.feature_extraction.text import CountVectorizer"
   ]
  },
  {
   "cell_type": "code",
   "execution_count": 126,
   "id": "6b19d831-d8f2-4ee2-8245-0a79f241e5f0",
   "metadata": {},
   "outputs": [],
   "source": [
    "cv = CountVectorizer()"
   ]
  },
  {
   "cell_type": "code",
   "execution_count": 128,
   "id": "e0aa79ff-e3ee-49b6-8bb5-ac9649c6d7a7",
   "metadata": {},
   "outputs": [],
   "source": [
    "new_data = cv.fit_transform(df[\"Anuj\"]).toarray()\n"
   ]
  },
  {
   "cell_type": "code",
   "execution_count": 130,
   "id": "4dd639d6-9197-4728-8ac9-f253349e7ba1",
   "metadata": {},
   "outputs": [
    {
     "data": {
      "text/plain": [
       "array([[1, 1, 0, 0, 0, 1, 0],\n",
       "       [1, 0, 0, 1, 0, 0, 1],\n",
       "       [2, 1, 1, 0, 1, 0, 0]], dtype=int64)"
      ]
     },
     "execution_count": 130,
     "metadata": {},
     "output_type": "execute_result"
    }
   ],
   "source": [
    "new_data"
   ]
  },
  {
   "cell_type": "code",
   "execution_count": 132,
   "id": "8aceafbf-92cc-4ed4-9227-c83fd9ad576e",
   "metadata": {},
   "outputs": [
    {
     "data": {
      "text/plain": [
       "{'am': 0, 'anuj': 1, 'singh': 5, 'gnsu': 3, 'student': 6, 'nice': 4, 'boy': 2}"
      ]
     },
     "execution_count": 132,
     "metadata": {},
     "output_type": "execute_result"
    }
   ],
   "source": [
    "cv.vocabulary_"
   ]
  },
  {
   "cell_type": "code",
   "execution_count": null,
   "id": "9fbae2f6-0207-465d-88b9-797a43471047",
   "metadata": {},
   "outputs": [],
   "source": []
  },
  {
   "cell_type": "markdown",
   "id": "49811caf-a575-42f5-9f6e-46d8376a4f95",
   "metadata": {},
   "source": [
    "# Word Sense Disambiguation\n",
    "\n",
    "Word Sense Disambiguation is an important method of NLP by which the meaning of a word is determined, which is used in a particular context"
   ]
  },
  {
   "cell_type": "code",
   "execution_count": 143,
   "id": "0af75426-c010-4930-8fd5-42af8c3516c2",
   "metadata": {},
   "outputs": [],
   "source": [
    "x = \"The Sun is the star at the center of the Solar System. It is a massive, nearly perfect sphere of hot plasma, heated to incandescence by nuclear fusion reactions in its core, radiating the energy from its surface mainly as visible light and infrared radiation with 10% at ultraviolet energies.\""
   ]
  },
  {
   "cell_type": "code",
   "execution_count": 145,
   "id": "d89a6e54-7508-4b3c-bb8f-ba45d000473d",
   "metadata": {},
   "outputs": [],
   "source": [
    "from nltk.wsd import lesk\n",
    "from nltk.tokenize import word_tokenize "
   ]
  },
  {
   "cell_type": "code",
   "execution_count": 175,
   "id": "7b144cea-0664-4ac8-bcb6-d09466966f47",
   "metadata": {},
   "outputs": [],
   "source": [
    "l = lesk(word_tokenize(x), \"mouse\")"
   ]
  },
  {
   "cell_type": "code",
   "execution_count": 177,
   "id": "b88b64db-a02f-4325-bc81-16efb6db94f2",
   "metadata": {},
   "outputs": [
    {
     "data": {
      "text/plain": [
       "Synset('mouse.n.04')"
      ]
     },
     "execution_count": 177,
     "metadata": {},
     "output_type": "execute_result"
    }
   ],
   "source": [
    "l"
   ]
  },
  {
   "cell_type": "code",
   "execution_count": 179,
   "id": "487eef82-36ca-41b3-81aa-8e326aa6c2dc",
   "metadata": {},
   "outputs": [
    {
     "data": {
      "text/plain": [
       "'a hand-operated electronic device that controls the coordinates of a cursor on your computer screen as you move it around on a pad; on the bottom of the device is a ball that rolls on the surface of the pad'"
      ]
     },
     "execution_count": 179,
     "metadata": {},
     "output_type": "execute_result"
    }
   ],
   "source": [
    "l.definition()"
   ]
  },
  {
   "cell_type": "code",
   "execution_count": null,
   "id": "890c5597-703e-4acd-bab6-1dece2ae66fd",
   "metadata": {},
   "outputs": [],
   "source": []
  }
 ],
 "metadata": {
  "kernelspec": {
   "display_name": "Python 3 (ipykernel)",
   "language": "python",
   "name": "python3"
  },
  "language_info": {
   "codemirror_mode": {
    "name": "ipython",
    "version": 3
   },
   "file_extension": ".py",
   "mimetype": "text/x-python",
   "name": "python",
   "nbconvert_exporter": "python",
   "pygments_lexer": "ipython3",
   "version": "3.12.4"
  }
 },
 "nbformat": 4,
 "nbformat_minor": 5
}
